{
 "cells": [
  {
   "cell_type": "code",
   "execution_count": null,
   "id": "74657ee2-8476-4c2a-ba85-774cd17f7256",
   "metadata": {},
   "outputs": [
    {
     "name": "stdout",
     "output_type": "stream",
     "text": [
      "Valor guardado: 1\n",
      "Valor guardado: 2\n",
      "Valor guardado: 3\n"
     ]
    },
    {
     "name": "stdin",
     "output_type": "stream",
     "text": [
      "Presiona 'q' para salir o 'c' para continuar:  q\n"
     ]
    },
    {
     "name": "stdout",
     "output_type": "stream",
     "text": [
      "Valor guardado: 4\n",
      "Valor guardado: 5\n",
      "Valor guardado: 6\n",
      "Valor guardado: 7\n",
      "Valor guardado: 8\n",
      "Valor guardado: 9\n",
      "Valor guardado: 10\n",
      "Valor guardado: 11\n",
      "Valor guardado: 12\n",
      "Valor guardado: 13\n",
      "Valor guardado: 14\n",
      "Valor guardado: 15\n",
      "Valor guardado: 16\n",
      "Valor guardado: 17\n",
      "Valor guardado: 18\n",
      "Valor guardado: 19\n",
      "Valor guardado: 20\n",
      "Valor guardado: 21\n",
      "Valor guardado: 22\n",
      "Valor guardado: 23\n",
      "Valor guardado: 24\n",
      "Valor guardado: 25\n",
      "Valor guardado: 26\n",
      "Valor guardado: 27\n",
      "Valor guardado: 28\n",
      "Valor guardado: 29\n"
     ]
    }
   ],
   "source": [
    "\n",
    "\n",
    "import csv\n",
    "import time\n",
    "import threading\n",
    "\n",
    "# Función para guardar los valores en el archivo CSV\n",
    "def guardar_en_csv(valores, nombre_archivo):\n",
    "    with open(nombre_archivo, 'w', newline='') as archivo_csv:\n",
    "        escritor_csv = csv.writer(archivo_csv)\n",
    "        escritor_csv.writerow(['Valor'])  # Escribir encabezado si es necesario\n",
    "        for valor in valores:\n",
    "            escritor_csv.writerow([valor])\n",
    "\n",
    "# Función para leer la entrada del usuario y manejar la salida\n",
    "def leer_entrada():\n",
    "    global continuar\n",
    "    while True:\n",
    "        entrada = input(\"Presiona 'q' para salir o 'c' para continuar: \").strip().lower()\n",
    "        if entrada == 'q':\n",
    "            respuesta = input(\"¿Estás seguro de que quieres salir? (s/n): \").strip().lower()\n",
    "            if respuesta == 's':\n",
    "                continuar = False\n",
    "                break\n",
    "            elif respuesta == 'n':\n",
    "                continue\n",
    "            else:\n",
    "                print(\"Entrada no válida. Por favor, responde 's' para salir o 'n' para continuar.\")\n",
    "        elif entrada == 'c':\n",
    "            continue\n",
    "\n",
    "valores_a_guardar = []\n",
    "nombre_del_archivo = r'/home/manuelm/Documentos/DLAB/Registro-PH/Software/data/m1.csv'\n",
    "continuar = True\n",
    "\n",
    "# Iniciar el hilo para leer la entrada del usuario\n",
    "thread_entrada = threading.Thread(target=leer_entrada)\n",
    "thread_entrada.start()\n",
    "\n",
    "try:\n",
    "    while continuar:\n",
    "        # Simulación de recolección de valores cada segundo\n",
    "        valor = len(valores_a_guardar) + 1  # Valor de ejemplo, puedes reemplazar con tu propia lógica\n",
    "        valores_a_guardar.append(valor)\n",
    "        guardar_en_csv(valores_a_guardar, nombre_del_archivo)\n",
    "        print(f\"Valor guardado: {valor}\")\n",
    "        time.sleep(1)\n",
    "except KeyboardInterrupt:\n",
    "    print(\"\\nInterrupción de teclado detectada. Saliendo del programa...\")\n",
    "\n",
    "# Esperar a que el hilo de entrada termine\n",
    "thread_entrada.join()\n",
    "\n"
   ]
  }
 ],
 "metadata": {
  "kernelspec": {
   "display_name": "Python 3 (ipykernel)",
   "language": "python",
   "name": "python3"
  },
  "language_info": {
   "codemirror_mode": {
    "name": "ipython",
    "version": 3
   },
   "file_extension": ".py",
   "mimetype": "text/x-python",
   "name": "python",
   "nbconvert_exporter": "python",
   "pygments_lexer": "ipython3",
   "version": "3.8.18"
  }
 },
 "nbformat": 4,
 "nbformat_minor": 5
}
