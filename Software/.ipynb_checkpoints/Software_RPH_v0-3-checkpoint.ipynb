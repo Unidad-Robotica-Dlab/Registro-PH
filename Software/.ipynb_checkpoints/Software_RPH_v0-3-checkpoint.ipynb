{
 "cells": [
  {
   "cell_type": "code",
   "execution_count": 1,
   "id": "d327c73f-1ac4-446c-99c2-4a528c04aca4",
   "metadata": {},
   "outputs": [
    {
     "name": "stdout",
     "output_type": "stream",
     "text": [
      "SELECCIONE PUERTO SERIAL:\n",
      "1. /dev/ttyUSB0\n"
     ]
    },
    {
     "name": "stdin",
     "output_type": "stream",
     "text": [
      "Seleccione el número del puerto a usar:  1\n"
     ]
    },
    {
     "name": "stdout",
     "output_type": "stream",
     "text": [
      "------------------------------------------------\n",
      "MENU PRINCIPAL\n"
     ]
    },
    {
     "name": "stdin",
     "output_type": "stream",
     "text": [
      "Escriba el nombre del .csv a guardar:  pruebafinal\n"
     ]
    },
    {
     "name": "stdout",
     "output_type": "stream",
     "text": [
      "------------------------------------------------\n"
     ]
    },
    {
     "name": "stdin",
     "output_type": "stream",
     "text": [
      "Estas seguro?: si\n"
     ]
    },
    {
     "name": "stdout",
     "output_type": "stream",
     "text": [
      "1. Iniciar Grabacion de datos\n",
      "2. Salir\n"
     ]
    },
    {
     "name": "stdin",
     "output_type": "stream",
     "text": [
      "Seleccione una opción:  1\n",
      "Seleccione un intervalo de tiempo (segs) entre lecturas: 1\n",
      "Quiere iniciar el programa? (si / no): si\n"
     ]
    },
    {
     "name": "stdout",
     "output_type": "stream",
     "text": [
      "------------------------------------------------\n",
      "iniciando el programa...\n",
      "Enviando a Arduino:  LEER\n",
      "------------------------------------------------\n",
      "pH: 35.44\n",
      "pH: 35.44\n",
      "pH: 35.44\n",
      "pH: 35.44\n",
      "pH: 35.44\n",
      "pH: 35.44\n",
      "pH: 35.44\n",
      "pH: 35.44\n",
      "pH: 35.44\n",
      "pH: 35.44\n",
      "pH: 35.44\n",
      "pH: 35.44\n",
      "pH: 35.44\n",
      "pH: 35.44\n",
      "pH: 35.44\n",
      "pH: 35.44\n",
      "Programa detenido por el usuario.\n",
      "Programa detenido por el usuario.\n"
     ]
    },
    {
     "ename": "KeyboardInterrupt",
     "evalue": "Interrupted by user",
     "output_type": "error",
     "traceback": [
      "\u001b[0;31m---------------------------------------------------------------------------\u001b[0m",
      "\u001b[0;31mKeyboardInterrupt\u001b[0m                         Traceback (most recent call last)",
      "Cell \u001b[0;32mIn[1], line 158\u001b[0m\n\u001b[1;32m    156\u001b[0m \u001b[38;5;66;03m#\u001b[39;00m\n\u001b[1;32m    157\u001b[0m \u001b[38;5;28;01mif\u001b[39;00m \u001b[38;5;18m__name__\u001b[39m \u001b[38;5;241m==\u001b[39m \u001b[38;5;124m\"\u001b[39m\u001b[38;5;124m__main__\u001b[39m\u001b[38;5;124m\"\u001b[39m:\n\u001b[0;32m--> 158\u001b[0m     \u001b[43mmain\u001b[49m\u001b[43m(\u001b[49m\u001b[43m)\u001b[49m\n",
      "Cell \u001b[0;32mIn[1], line 80\u001b[0m, in \u001b[0;36mmain\u001b[0;34m()\u001b[0m\n\u001b[1;32m     78\u001b[0m t_lectura \u001b[38;5;241m=\u001b[39m \u001b[38;5;28mint\u001b[39m(\u001b[38;5;28minput\u001b[39m(\u001b[38;5;124m\"\u001b[39m\u001b[38;5;124mSeleccione un intervalo de tiempo (segs) entre lecturas:\u001b[39m\u001b[38;5;124m\"\u001b[39m))\n\u001b[1;32m     79\u001b[0m \u001b[38;5;28;01mwhile\u001b[39;00m \u001b[38;5;28;01mTrue\u001b[39;00m:\n\u001b[0;32m---> 80\u001b[0m     iniciar \u001b[38;5;241m=\u001b[39m \u001b[38;5;28mstr\u001b[39m(\u001b[38;5;28;43minput\u001b[39;49m\u001b[43m(\u001b[49m\u001b[38;5;124;43m\"\u001b[39;49m\u001b[38;5;124;43mQuiere iniciar el programa? (si / no):\u001b[39;49m\u001b[38;5;124;43m\"\u001b[39;49m\u001b[43m)\u001b[49m)\n\u001b[1;32m     81\u001b[0m     \u001b[38;5;28;01mif\u001b[39;00m iniciar \u001b[38;5;241m==\u001b[39m\u001b[38;5;124m\"\u001b[39m\u001b[38;5;124msi\u001b[39m\u001b[38;5;124m\"\u001b[39m:\n\u001b[1;32m     82\u001b[0m         \u001b[38;5;28mprint\u001b[39m(\u001b[38;5;124m\"\u001b[39m\u001b[38;5;124m------------------------------------------------\u001b[39m\u001b[38;5;124m\"\u001b[39m)\n",
      "File \u001b[0;32m~/.config/jupyterlab-desktop/jlab_server/lib/python3.8/site-packages/ipykernel/kernelbase.py:1251\u001b[0m, in \u001b[0;36mKernel.raw_input\u001b[0;34m(self, prompt)\u001b[0m\n\u001b[1;32m   1249\u001b[0m     msg \u001b[38;5;241m=\u001b[39m \u001b[38;5;124m\"\u001b[39m\u001b[38;5;124mraw_input was called, but this frontend does not support input requests.\u001b[39m\u001b[38;5;124m\"\u001b[39m\n\u001b[1;32m   1250\u001b[0m     \u001b[38;5;28;01mraise\u001b[39;00m StdinNotImplementedError(msg)\n\u001b[0;32m-> 1251\u001b[0m \u001b[38;5;28;01mreturn\u001b[39;00m \u001b[38;5;28;43mself\u001b[39;49m\u001b[38;5;241;43m.\u001b[39;49m\u001b[43m_input_request\u001b[49m\u001b[43m(\u001b[49m\n\u001b[1;32m   1252\u001b[0m \u001b[43m    \u001b[49m\u001b[38;5;28;43mstr\u001b[39;49m\u001b[43m(\u001b[49m\u001b[43mprompt\u001b[49m\u001b[43m)\u001b[49m\u001b[43m,\u001b[49m\n\u001b[1;32m   1253\u001b[0m \u001b[43m    \u001b[49m\u001b[38;5;28;43mself\u001b[39;49m\u001b[38;5;241;43m.\u001b[39;49m\u001b[43m_parent_ident\u001b[49m\u001b[43m[\u001b[49m\u001b[38;5;124;43m\"\u001b[39;49m\u001b[38;5;124;43mshell\u001b[39;49m\u001b[38;5;124;43m\"\u001b[39;49m\u001b[43m]\u001b[49m\u001b[43m,\u001b[49m\n\u001b[1;32m   1254\u001b[0m \u001b[43m    \u001b[49m\u001b[38;5;28;43mself\u001b[39;49m\u001b[38;5;241;43m.\u001b[39;49m\u001b[43mget_parent\u001b[49m\u001b[43m(\u001b[49m\u001b[38;5;124;43m\"\u001b[39;49m\u001b[38;5;124;43mshell\u001b[39;49m\u001b[38;5;124;43m\"\u001b[39;49m\u001b[43m)\u001b[49m\u001b[43m,\u001b[49m\n\u001b[1;32m   1255\u001b[0m \u001b[43m    \u001b[49m\u001b[43mpassword\u001b[49m\u001b[38;5;241;43m=\u001b[39;49m\u001b[38;5;28;43;01mFalse\u001b[39;49;00m\u001b[43m,\u001b[49m\n\u001b[1;32m   1256\u001b[0m \u001b[43m\u001b[49m\u001b[43m)\u001b[49m\n",
      "File \u001b[0;32m~/.config/jupyterlab-desktop/jlab_server/lib/python3.8/site-packages/ipykernel/kernelbase.py:1295\u001b[0m, in \u001b[0;36mKernel._input_request\u001b[0;34m(self, prompt, ident, parent, password)\u001b[0m\n\u001b[1;32m   1292\u001b[0m \u001b[38;5;28;01mexcept\u001b[39;00m \u001b[38;5;167;01mKeyboardInterrupt\u001b[39;00m:\n\u001b[1;32m   1293\u001b[0m     \u001b[38;5;66;03m# re-raise KeyboardInterrupt, to truncate traceback\u001b[39;00m\n\u001b[1;32m   1294\u001b[0m     msg \u001b[38;5;241m=\u001b[39m \u001b[38;5;124m\"\u001b[39m\u001b[38;5;124mInterrupted by user\u001b[39m\u001b[38;5;124m\"\u001b[39m\n\u001b[0;32m-> 1295\u001b[0m     \u001b[38;5;28;01mraise\u001b[39;00m \u001b[38;5;167;01mKeyboardInterrupt\u001b[39;00m(msg) \u001b[38;5;28;01mfrom\u001b[39;00m \u001b[38;5;28;01mNone\u001b[39;00m\n\u001b[1;32m   1296\u001b[0m \u001b[38;5;28;01mexcept\u001b[39;00m \u001b[38;5;167;01mException\u001b[39;00m:\n\u001b[1;32m   1297\u001b[0m     \u001b[38;5;28mself\u001b[39m\u001b[38;5;241m.\u001b[39mlog\u001b[38;5;241m.\u001b[39mwarning(\u001b[38;5;124m\"\u001b[39m\u001b[38;5;124mInvalid Message:\u001b[39m\u001b[38;5;124m\"\u001b[39m, exc_info\u001b[38;5;241m=\u001b[39m\u001b[38;5;28;01mTrue\u001b[39;00m)\n",
      "\u001b[0;31mKeyboardInterrupt\u001b[0m: Interrupted by user"
     ]
    }
   ],
   "source": [
    "import time\n",
    "from matplotlib import pyplot as plt\n",
    "import csv\n",
    "import os\n",
    "import datetime\n",
    "import serial\n",
    "import serial.tools.list_ports\n",
    "from matplotlib.ticker import NullFormatter\n",
    "import threading\n",
    "\n",
    "#['303', '305', '304', '304', '304', '305', '305', '304', '304', '304'] 1.68pH\n",
    "#['228', '229', '229', '229', '228', '230', '230', '229', '228', '230'] 10.01pH\n",
    "#y=−0.11106666666666666x+35.444266666666664\n",
    "\n",
    "#########################################################################################################\n",
    "def seleccionar_puerto():\n",
    "    puertos_disponibles = [puerto.device for puerto in serial.tools.list_ports.comports()]\n",
    "\n",
    "    if not puertos_disponibles:\n",
    "        print(\"No se encontraron puertos seriales disponibles.\")\n",
    "        return None\n",
    "\n",
    "    print(\"SELECCIONE PUERTO SERIAL:\")\n",
    "    for indice, puerto in enumerate(puertos_disponibles, start=1):\n",
    "        print(f\"{indice}. {puerto}\")\n",
    "\n",
    "    seleccion = 0\n",
    "    while True:\n",
    "        try:\n",
    "            seleccion = int(input(\"Seleccione el número del puerto a usar: \"))\n",
    "            print(\"------------------------------------------------\")\n",
    "            if 1 <= seleccion <= len(puertos_disponibles):\n",
    "                break\n",
    "            else:\n",
    "                print(\"Seleccion incorrecta. Intente de nuevo.\")\n",
    "        except ValueError:\n",
    "            print(\"Entrada inválida. Por favor, ingrese un número.\")\n",
    "\n",
    "    puerto_seleccionado = puertos_disponibles[seleccion - 1]\n",
    "    return puerto_seleccionado\n",
    "\n",
    "puerto = seleccionar_puerto()\n",
    "fecha = datetime.datetime.now().strftime(\"%d-%m-%Y_%H;%M;%S\")\n",
    "\n",
    "vector = []\n",
    "##########################################################################################################\n",
    "def leer_entrada():\n",
    "    global continuar\n",
    "    while True:\n",
    "        entrada = input(\"Presiona 'q' para salir: \").strip().lower()\n",
    "        if entrada == 'q':\n",
    "            continuar = False\n",
    "            break\n",
    "\n",
    "continuar = True\n",
    "\n",
    "##########################################################################################################\n",
    "\n",
    "def main():\n",
    "    arduino = serial.Serial(puerto, 115200, timeout=1) #windows\n",
    "    time.sleep(1) # Espera a que Arduino se inicialice\n",
    "    arduino.flushInput()\n",
    "    print(\"MENU PRINCIPAL\")  \n",
    "    nombre_archivo = input(\"Escriba el nombre del .csv a guardar: \")\n",
    "    ruta_archivo = r'/home/manuelm/Documentos/DLAB/Registro-PH/Software/data/'+nombre_archivo+'.csv'\n",
    "    print(\"------------------------------------------------\")\n",
    "    confirmar = input(\"Estas seguro?:\")\n",
    "    if confirmar == 'si':\n",
    "        while True:\n",
    "            print(\"1. Iniciar Grabacion de datos\")\n",
    "            print(\"2. Salir\")\n",
    "            opcionn = input(\"Seleccione una opción: \")\n",
    "            \n",
    "            if opcionn == '1':\n",
    "                t_lectura = int(input(\"Seleccione un intervalo de tiempo (segs) entre lecturas:\"))\n",
    "                while True:\n",
    "                    iniciar = str(input(\"Quiere iniciar el programa? (si / no):\"))\n",
    "                    if iniciar ==\"si\":\n",
    "                        print(\"------------------------------------------------\")\n",
    "                        print(\"iniciando el programa...\")\n",
    "                        instruccion = 'LEER\\r'\n",
    "                        print(\"Enviando a Arduino: \", instruccion)\n",
    "                        time.sleep(1)\n",
    "                        arduino.write(instruccion.encode('utf-8'))\n",
    "                        print(\"------------------------------------------------\")\n",
    "                        data_count = 0\n",
    "                        thread_entrada = threading.Thread(target=leer_entrada)\n",
    "                        thread_entrada.start()\n",
    "                        try:\n",
    "                            while True:\n",
    "                                arduino.write(instruccion.encode('utf-8'))\n",
    "                                data = arduino.readline().decode().strip()\n",
    "                                archivo_csv = open(ruta_archivo, mode='a', newline='')\n",
    "                                escritor_csv = csv.writer(archivo_csv)\n",
    "                                escritor_csv.writerow([\"tiempo\",\"data\"])\n",
    "                                if data is not None and data != \"\":\n",
    "                                    try:\n",
    "                                        while continuar:\n",
    "                                            data_count = data_count+1\n",
    "                                            data_pH = -(0.11106666666666666*float(data))+35.444266666666664\n",
    "                                            data_pH = \"{:.2f}\".format(data_pH)\n",
    "                                            tiempo_actual = time.strftime('%H:%M:%S') \n",
    "                                            #print(\"Datos bruto: {:.2f}\".format(float(data)))\n",
    "                                            archivo_csv = open(ruta_archivo, mode='a', newline='')\n",
    "                                            escritor_csv = csv.writer(archivo_csv)\n",
    "                                            escritor_csv.writerow([tiempo_actual,data_pH])\n",
    "                                            archivo_csv.close()\n",
    "                                            print(f'pH: {data_pH}')\n",
    "                                            time.sleep(t_lectura)\n",
    "                                    \n",
    "                                    except KeyboardInterrupt:\n",
    "                                        print(\"Programa detenido por el usuario.\")\n",
    "\n",
    "                                    thread_entrada.join()\n",
    "                                    break\n",
    "                            print(\"------------------------------------------------\")\n",
    "                            time.sleep(1)\n",
    "                            print(\"Programa terminado por el usuario, espere un momento...\")\n",
    "                            time.sleep(1)\n",
    "                            print(\".\")\n",
    "                            time.sleep(1)\n",
    "                            print(\".\")\n",
    "                            time.sleep(1)\n",
    "                            print(\".\")\n",
    "                            time.sleep(3)\n",
    "                            main()\n",
    "    \n",
    "    \n",
    "                        except KeyboardInterrupt:\n",
    "                            print(\"Programa detenido por el usuario.\")\n",
    "                                    \n",
    "                           \n",
    "                        \n",
    "                    elif iniciar ==\"no\":\n",
    "                        print(\"Saliendo del programa...\")\n",
    "                        arduino.close()\n",
    "                        break\n",
    "                    else:\n",
    "                        print(\"Error\")\n",
    "    \n",
    "    \n",
    "            elif opcionn == '2':\n",
    "                print(\"Reiniciando...\")\n",
    "                arduino.close()\n",
    "                time.sleep(3)\n",
    "                main()\n",
    "            else:\n",
    "                print(\"Opción inválidaaa. Por favor, selecciona una opción válida.\")\n",
    "    if confirmar == 'no':\n",
    "        print(\"Reiniciando...\")\n",
    "        time.sleep(3)\n",
    "        main()\n",
    "#\n",
    "if __name__ == \"__main__\":\n",
    "    main()"
   ]
  }
 ],
 "metadata": {
  "kernelspec": {
   "display_name": "Python 3 (ipykernel)",
   "language": "python",
   "name": "python3"
  },
  "language_info": {
   "codemirror_mode": {
    "name": "ipython",
    "version": 3
   },
   "file_extension": ".py",
   "mimetype": "text/x-python",
   "name": "python",
   "nbconvert_exporter": "python",
   "pygments_lexer": "ipython3",
   "version": "3.8.18"
  }
 },
 "nbformat": 4,
 "nbformat_minor": 5
}
