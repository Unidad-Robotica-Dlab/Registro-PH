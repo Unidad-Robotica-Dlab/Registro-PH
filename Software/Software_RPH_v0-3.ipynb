{
 "cells": [
  {
   "cell_type": "code",
   "execution_count": 1,
   "id": "d327c73f-1ac4-446c-99c2-4a528c04aca4",
   "metadata": {},
   "outputs": [
    {
     "name": "stdout",
     "output_type": "stream",
     "text": [
      "------------------------------------------------\n",
      "SELECCIONE PUERTO SERIAL:\n",
      "1. /dev/ttyACM0\n"
     ]
    },
    {
     "name": "stdin",
     "output_type": "stream",
     "text": [
      "Seleccione el número del puerto a usar:  1\n"
     ]
    },
    {
     "name": "stdout",
     "output_type": "stream",
     "text": [
      "------------------------------------------------\n",
      "MENU PRINCIPAL\n",
      "Escriba el nombre del archivo a guardar (Por ejemplo: EXP1_Simon [Experimento_Autor])\n"
     ]
    },
    {
     "name": "stdin",
     "output_type": "stream",
     "text": [
      "Nombre del archivo: qqq\n"
     ]
    },
    {
     "name": "stdout",
     "output_type": "stream",
     "text": [
      "Estas seguro?\n",
      "1. Si\n",
      "2. No\n"
     ]
    },
    {
     "name": "stdin",
     "output_type": "stream",
     "text": [
      "Seleccione una opción (1 o 2):  1\n"
     ]
    },
    {
     "name": "stdout",
     "output_type": "stream",
     "text": [
      "------------------------------------------------\n",
      "1. Iniciar Calibracion\n",
      "2. Iniciar Grabacion de datos\n",
      "3. Salir\n"
     ]
    },
    {
     "name": "stdin",
     "output_type": "stream",
     "text": [
      "Seleccione una opción (1 o 2):  1\n"
     ]
    },
    {
     "name": "stdout",
     "output_type": "stream",
     "text": [
      "------------------------------------------------\n"
     ]
    },
    {
     "name": "stdin",
     "output_type": "stream",
     "text": [
      "Seleccione el pH bajo 4.02\n"
     ]
    },
    {
     "name": "stdout",
     "output_type": "stream",
     "text": [
      "Enviando a Arduino:  LEER\n"
     ]
    },
    {
     "name": "stdin",
     "output_type": "stream",
     "text": [
      "Seleccione el pH alto 7.01\n"
     ]
    },
    {
     "name": "stdout",
     "output_type": "stream",
     "text": [
      "Enviando a Arduino:  LEER\n",
      "Quiere iniciar la calibracion\n",
      "1. Si\n",
      "2. No\n"
     ]
    },
    {
     "name": "stdin",
     "output_type": "stream",
     "text": [
      "Seleccione una opcion (1 o 2) 1\n"
     ]
    },
    {
     "name": "stdout",
     "output_type": "stream",
     "text": [
      "x1:  276.0\n",
      "x2:  249.0\n",
      "y1:  4.02\n",
      "y2:  7.01\n",
      "m:  -0.11074074074074075\n",
      "b:  34.58444444444444\n",
      "Opción inválida. Por favor, selecciona una opción válida.\n",
      "1. Iniciar Calibracion\n",
      "2. Iniciar Grabacion de datos\n",
      "3. Salir\n"
     ]
    },
    {
     "name": "stdin",
     "output_type": "stream",
     "text": [
      "Seleccione una opción (1 o 2):  2\n"
     ]
    },
    {
     "name": "stdout",
     "output_type": "stream",
     "text": [
      "------------------------------------------------\n"
     ]
    },
    {
     "name": "stdin",
     "output_type": "stream",
     "text": [
      "Seleccione un intervalo de tiempo (segs) entre lecturas: 1\n"
     ]
    },
    {
     "name": "stdout",
     "output_type": "stream",
     "text": [
      "Quiere iniciar el programa?\n",
      "1. Si\n",
      "2. No\n"
     ]
    },
    {
     "name": "stdin",
     "output_type": "stream",
     "text": [
      "Seleccione una opcion (1 o 2) 1\n"
     ]
    },
    {
     "name": "stdout",
     "output_type": "stream",
     "text": [
      "------------------------------------------------\n",
      "iniciando el programa...\n",
      "Enviando a Arduino:  LEER\n",
      "------------------------------------------------\n",
      "Hora,data\n",
      "17:00:48,6.68 pH\r"
     ]
    },
    {
     "name": "stdin",
     "output_type": "stream",
     "text": [
      "Presiona 'q' para salir:  q\n"
     ]
    },
    {
     "name": "stdout",
     "output_type": "stream",
     "text": [
      "------------------------------------------------\n",
      "Saliendo, espere un momento...\n",
      ".\n",
      ".\n",
      "Programa terminado\n"
     ]
    }
   ],
   "source": [
    "import time\n",
    "from matplotlib import pyplot as plt\n",
    "import csv\n",
    "import os\n",
    "import datetime\n",
    "import serial\n",
    "import serial.tools.list_ports\n",
    "from matplotlib.ticker import NullFormatter\n",
    "import threading\n",
    "import sys\n",
    "\n",
    "\n",
    "#########################################################################################################\n",
    "def seleccionar_puerto():\n",
    "    puertos_disponibles = [puerto.device for puerto in serial.tools.list_ports.comports()]\n",
    "\n",
    "    if not puertos_disponibles:\n",
    "        print(\"No se encontraron puertos seriales disponibles.\")\n",
    "        return None\n",
    "    print(\"------------------------------------------------\")\n",
    "    print(\"SELECCIONE PUERTO SERIAL:\")\n",
    "    for indice, puerto in enumerate(puertos_disponibles, start=1):\n",
    "        print(f\"{indice}. {puerto}\")\n",
    "\n",
    "    seleccion = 0\n",
    "    while True:\n",
    "        try:\n",
    "            seleccion = int(input(\"Seleccione el número del puerto a usar: \"))\n",
    "            print(\"------------------------------------------------\")\n",
    "            if 1 <= seleccion <= len(puertos_disponibles):\n",
    "                break\n",
    "            else:\n",
    "                print(\"Seleccion incorrecta. Intente de nuevo.\")\n",
    "        except ValueError:\n",
    "            print(\"Entrada inválida. Por favor, ingrese un número.\")\n",
    "\n",
    "    puerto_seleccionado = puertos_disponibles[seleccion - 1]\n",
    "    return puerto_seleccionado\n",
    "\n",
    "puerto = seleccionar_puerto()\n",
    "fecha = datetime.datetime.now().strftime(\"%d-%m-%Y\")\n",
    "\n",
    "vector = []\n",
    "##########################################################################################################\n",
    "def leer_entrada():\n",
    "    global continuar\n",
    "    while True:\n",
    "        entrada = input(\"Presiona 'q' para salir: \").strip().lower()\n",
    "        if entrada == 'q' or entrada == 'Q':\n",
    "            continuar = False\n",
    "            break\n",
    "\n",
    "continuar = True\n",
    "\n",
    "##########################################################################################################\n",
    "\n",
    "def main():\n",
    "    salir = False\n",
    "    arduino = serial.Serial(puerto, 115200, timeout=1) #windows\n",
    "    time.sleep(1) # Espera a que Arduino se inicialice\n",
    "    arduino.flushInput()\n",
    "    print(\"MENU PRINCIPAL\")  \n",
    "    print(\"Escriba el nombre del archivo a guardar (Por ejemplo: EXP1_Simon [Experimento_Autor])\")\n",
    "    nombre_archivo = input(\"Nombre del archivo:\")\n",
    "    print(\"Estas seguro?\")\n",
    "    print(\"1. Si\")\n",
    "    print(\"2. No\")\n",
    "    confirmar = input(\"Seleccione una opción (1 o 2): \")\n",
    "    print(\"------------------------------------------------\")\n",
    "    if confirmar == '1':\n",
    "        while not salir:\n",
    "            print(\"1. Iniciar Calibracion\")\n",
    "            print(\"2. Iniciar Grabacion de datos\")\n",
    "            print(\"3. Salir\")\n",
    "            opcionn = input(\"Seleccione una opción (1 o 2): \")\n",
    "\n",
    "            if opcionn == '1':\n",
    "                print(\"------------------------------------------------\")\n",
    "                y1 = float(input(\"Seleccione el pH bajo\"))\n",
    "                instruccion = 'LEER\\r'\n",
    "                print(\"Enviando a Arduino: \", instruccion)\n",
    "                time.sleep(1)\n",
    "                arduino.write(instruccion.encode('utf-8'))\n",
    "                x1 = arduino.readline().decode().strip() #7.01(y2) = 255(x2) // 4.01(y1) = 282(x1) // y=−0.1111111111111111x+35.343333333333334\n",
    "                if x1 is not None and x1 != \"\":\n",
    "                    try:\n",
    "                        x1 = float(x1)\n",
    "                    except ValueError:\n",
    "                        print(\"El string no representa un número válido:\", x1)\n",
    "                else:\n",
    "                    print(\"No se recibieron datos desde Arduino.\")\n",
    "                y2 = float(input(\"Seleccione el pH alto\"))\n",
    "                instruccion = 'LEER\\r'\n",
    "                print(\"Enviando a Arduino: \", instruccion)\n",
    "                time.sleep(1)\n",
    "                arduino.write(instruccion.encode('utf-8'))\n",
    "                x2 = float(arduino.readline().decode().strip()) #7.01(y2) = 255(x2) // 4.01(y1) = 282(x1) // y=−0.1111111111111111x+35.343333333333334\n",
    "                if x2 is not None and x2 != \"\":\n",
    "                    try:\n",
    "                        x2 = float(x2)\n",
    "                    except ValueError:\n",
    "                        print(\"El string no representa un número válido:\", x1)\n",
    "                else:\n",
    "                    print(\"No se recibieron datos desde Arduino.\")\n",
    "                \n",
    "                while True:\n",
    "                    print(\"Quiere iniciar la calibracion\")\n",
    "                    print(\"1. Si\")\n",
    "                    print(\"2. No\") \n",
    "                    iniciar_cal = input(\"Seleccione una opcion (1 o 2)\")\n",
    "                    if iniciar_cal ==\"1\":\n",
    "                        print(\"x1: \", x1)\n",
    "                        print(\"x2: \", x2)\n",
    "                        print(\"y1: \", y1)\n",
    "                        print(\"y2: \", y2)\n",
    "                        m = (y2 - y1) / (x2 - x1) \n",
    "                        b = y1 - m * x1\n",
    "                        time.sleep(1)\n",
    "                        print(\"m: \",m)\n",
    "                        print(\"b: \",b)\n",
    "                        time.sleep(1)  \n",
    "                        break\n",
    "                    if iniciar_cal ==\"2\":\n",
    "                        print(\"salir\")\n",
    "                        salir = True\n",
    "            \n",
    "            if opcionn == '2':\n",
    "                print(\"------------------------------------------------\")\n",
    "                t_lectura = int(input(\"Seleccione un intervalo de tiempo (segs) entre lecturas:\"))\n",
    "                ruta_archivo = r'/home/manuelm/Documentos/DLAB/Registro-PH/Software/data/'+nombre_archivo+'_'+str(t_lectura)+'s_'+fecha+'.csv'\n",
    "                while True:\n",
    "                    print(\"Quiere iniciar el programa?\")\n",
    "                    print(\"1. Si\")\n",
    "                    print(\"2. No\") \n",
    "                    iniciar = input(\"Seleccione una opcion (1 o 2)\")\n",
    "                    if iniciar ==\"1\":\n",
    "                        print(\"------------------------------------------------\")\n",
    "                        print(\"iniciando el programa...\")\n",
    "                        instruccion = 'LEER\\r'\n",
    "                        print(\"Enviando a Arduino: \", instruccion)\n",
    "                        time.sleep(1)\n",
    "                        arduino.write(instruccion.encode('utf-8'))\n",
    "                        print(\"------------------------------------------------\")\n",
    "                        time.sleep(1)\n",
    "                        print(\"Hora,data\")\n",
    "                        data_count = 0\n",
    "                        thread_entrada = threading.Thread(target=leer_entrada)\n",
    "                        thread_entrada.start()\n",
    "                        try:\n",
    "                            while True:\n",
    "                                archivo_csv = open(ruta_archivo, mode='a', newline='')\n",
    "                                escritor_csv = csv.writer(archivo_csv)\n",
    "                                escritor_csv.writerow([\"tiempo\",\"data\"])\n",
    "\n",
    "                                try:\n",
    "                                    while continuar:\n",
    "                                        arduino.write(instruccion.encode('utf-8'))\n",
    "                                        data = arduino.readline().decode().strip()\n",
    "                                        if data is not None and data != \"\":\n",
    "                                            data_count = data_count+1\n",
    "                                            #['303', '305', '304', '304', '304', '305', '305', '304', '304', '304'] 1.68pH\n",
    "                                            #['228', '229', '229', '229', '228', '230', '230', '229', '228', '230'] 10.01pH\n",
    "                                            #y=−0.11106666666666666x+35.444266666666664\n",
    "                                            data_pH = (m*float(data))+b #-(0.11106666666666666*float(data))+35.444266666666664\n",
    "                                            data_pH = \"{:.2f}\".format(data_pH)\n",
    "                                            tiempo_actual = time.strftime('%H:%M:%S') \n",
    "                                            archivo_csv = open(ruta_archivo, mode='a', newline='')\n",
    "                                            escritor_csv = csv.writer(archivo_csv)\n",
    "                                            escritor_csv.writerow([tiempo_actual,data_pH])\n",
    "                                            archivo_csv.close()\n",
    "                                            \n",
    "                                            print(f\"{tiempo_actual},{data_pH} pH\\r\", end=\"\")\n",
    "                                            time.sleep(t_lectura)\n",
    "                                \n",
    "                                except KeyboardInterrupt:\n",
    "                                    print(\"Programa detenido por el usuario.\")\n",
    "\n",
    "                                thread_entrada.join()\n",
    "                                break\n",
    "                            print(\"------------------------------------------------\")\n",
    "                            time.sleep(1)\n",
    "                            print(\"Saliendo, espere un momento...\")\n",
    "                            time.sleep(1)\n",
    "                            print(\".\")\n",
    "                            time.sleep(1)\n",
    "                            print(\".\")\n",
    "                            time.sleep(1)\n",
    "                            print(\"Programa terminado\")\n",
    "                            time.sleep(2)\n",
    "                            orden = 'R\\r'\n",
    "                            time.sleep(1)\n",
    "                            arduino.write(orden.encode('utf-8'))\n",
    "                            salir = True\n",
    "                            break\n",
    "    \n",
    "    \n",
    "                        except KeyboardInterrupt:\n",
    "                            print(\"Programa detenido por el usuario.\")\n",
    "                                    \n",
    "                                                   \n",
    "                    elif iniciar ==\"2\":\n",
    "                        print(\"------------------------------------------------\")\n",
    "                        break\n",
    "                    else:\n",
    "                        print(\"Error\")\n",
    "    \n",
    "    \n",
    "            elif opcionn == '3':\n",
    "                print(\"Terminado\")\n",
    "                arduino.close()\n",
    "                time.sleep(3)\n",
    "                salir = True\n",
    "                \n",
    "            else:\n",
    "                print(\"Opción inválida. Por favor, selecciona una opción válida.\")\n",
    "    if confirmar == '2':\n",
    "        print(\"Reiniciando...\")\n",
    "        time.sleep(3)\n",
    "        main()\n",
    "if __name__ == \"__main__\":\n",
    "    main()"
   ]
  }
 ],
 "metadata": {
  "kernelspec": {
   "display_name": "Python 3 (ipykernel)",
   "language": "python",
   "name": "python3"
  },
  "language_info": {
   "codemirror_mode": {
    "name": "ipython",
    "version": 3
   },
   "file_extension": ".py",
   "mimetype": "text/x-python",
   "name": "python",
   "nbconvert_exporter": "python",
   "pygments_lexer": "ipython3",
   "version": "3.8.18"
  }
 },
 "nbformat": 4,
 "nbformat_minor": 5
}
